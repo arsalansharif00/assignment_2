{
 "cells": [
  {
   "cell_type": "code",
   "execution_count": 1,
   "metadata": {},
   "outputs": [
    {
     "name": "stdout",
     "output_type": "stream",
     "text": [
      "How many numbers: 2\n",
      "Enter number 4\n",
      "Enter number 6\n",
      "Sum of elements  : 10\n"
     ]
    }
   ],
   "source": [
    "lst = []\n",
    "num = int(input('How many numbers: '))\n",
    "for n in range(num):\n",
    "    numbers = int(input('Enter number '))\n",
    "    lst.append(numbers)\n",
    "print(\"Sum of elements  :\", sum(lst))"
   ]
  },
  {
   "cell_type": "code",
   "execution_count": 2,
   "metadata": {},
   "outputs": [
    {
     "name": "stdout",
     "output_type": "stream",
     "text": [
      "Largest element is: 99\n"
     ]
    }
   ],
   "source": [
    "\n",
    "list1 = [10, 20, 4, 45, 99] \n",
    "  \n",
    " \n",
    "list1.sort() \n",
    "  \n",
    "\n",
    "print(\"Largest element is:\", list1[-1]) "
   ]
  },
  {
   "cell_type": "code",
   "execution_count": 3,
   "metadata": {},
   "outputs": [
    {
     "name": "stdout",
     "output_type": "stream",
     "text": [
      "The length of list is:  4\n"
     ]
    }
   ],
   "source": [
    "a = [] \n",
    "a.append(\"my\") \n",
    "a.append(\"name\") \n",
    "a.append(\"is\") \n",
    "a.append(\"arsalan\") \n",
    "print(\"The length of list is: \", len(a)) "
   ]
  },
  {
   "cell_type": "code",
   "execution_count": 5,
   "metadata": {},
   "outputs": [
    {
     "name": "stdout",
     "output_type": "stream",
     "text": [
      "Enter a number: 5\n",
      "5 is Odd\n"
     ]
    }
   ],
   "source": [
    "num = int(input(\"Enter a number: \"))\n",
    "if (num % 2) == 0:\n",
    "   print(\"{0} is Even\".format(num))\n",
    "else:\n",
    "   print(\"{0} is Odd\".format(num))"
   ]
  },
  {
   "cell_type": "code",
   "execution_count": 8,
   "metadata": {},
   "outputs": [
    {
     "name": "stdout",
     "output_type": "stream",
     "text": [
      "Marks In English Core:76\n",
      "Marks In Hindi/Mathematics:76\n",
      "Marks In Physics:87\n",
      "Marks In Chemistry:87\n",
      "Marks In Computer Science/Biology:87\n",
      "Your Marks In Percentage Is 82.6 %\n",
      "You have passed!\n"
     ]
    }
   ],
   "source": [
    "    a=int(input(\"Marks In English Core:\"))\n",
    "    b=int(input(\"Marks In Hindi/Mathematics:\"))\n",
    "    c=int(input(\"Marks In Physics:\"))\n",
    "    d=int(input(\"Marks In Chemistry:\"))\n",
    "    e=int(input(\"Marks In Computer Science/Biology:\"))\n",
    "     \n",
    "    f=(a+b+c+d+e)*100/500\n",
    "    print(\"Your Marks In Percentage Is\",f,\"%\")\n",
    "     \n",
    "    if f>=33:\n",
    "    \tprint('You have passed!')\n",
    "    else:\n",
    "    \tprint('You have failed')"
   ]
  },
  {
   "cell_type": "code",
   "execution_count": 14,
   "metadata": {},
   "outputs": [
    {
     "ename": "IndentationError",
     "evalue": "expected an indented block (<ipython-input-14-5df0a2560f87>, line 9)",
     "output_type": "error",
     "traceback": [
      "\u001b[1;36m  File \u001b[1;32m\"<ipython-input-14-5df0a2560f87>\"\u001b[1;36m, line \u001b[1;32m9\u001b[0m\n\u001b[1;33m    new_list.append(item)\u001b[0m\n\u001b[1;37m                         ^\u001b[0m\n\u001b[1;31mIndentationError\u001b[0m\u001b[1;31m:\u001b[0m expected an indented block\n"
     ]
    }
   ],
   "source": [
    "a = [1, 1, 2, 3, 5, 8, 13, 21, 34, 55, 89]\n",
    "\n",
    "new_list = []\n",
    "\n",
    "for item in a:\n",
    "  \n",
    "\tif item < 5:\n",
    "    \n",
    "new_list.append(item)\n",
    "print(new_list)"
   ]
  },
  {
   "cell_type": "code",
   "execution_count": null,
   "metadata": {},
   "outputs": [],
   "source": []
  }
 ],
 "metadata": {
  "kernelspec": {
   "display_name": "Python 3",
   "language": "python",
   "name": "python3"
  },
  "language_info": {
   "codemirror_mode": {
    "name": "ipython",
    "version": 3
   },
   "file_extension": ".py",
   "mimetype": "text/x-python",
   "name": "python",
   "nbconvert_exporter": "python",
   "pygments_lexer": "ipython3",
   "version": "3.7.4"
  }
 },
 "nbformat": 4,
 "nbformat_minor": 2
}
